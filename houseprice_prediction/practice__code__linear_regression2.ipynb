{
  "nbformat": 4,
  "nbformat_minor": 0,
  "metadata": {
    "colab": {
      "provenance": []
    },
    "kernelspec": {
      "name": "python3",
      "display_name": "Python 3"
    },
    "language_info": {
      "name": "python"
    }
  },
  "cells": [
    {
      "cell_type": "markdown",
      "source": [
        "WITH OUT USING GRADIENT DESCENT"
      ],
      "metadata": {
        "id": "Xap73BVdSCD8"
      }
    },
    {
      "cell_type": "markdown",
      "source": [
        "IMPORT LIBRARIES"
      ],
      "metadata": {
        "id": "WbdHb9kERpAx"
      }
    },
    {
      "cell_type": "code",
      "execution_count": 2,
      "metadata": {
        "id": "WUle4IA84xn6"
      },
      "outputs": [],
      "source": [
        "import numpy as np\n",
        "import pandas as pd\n",
        "import matplotlib.pyplot as plt"
      ]
    },
    {
      "cell_type": "markdown",
      "source": [
        "INPUT OF X,Y TRAIN"
      ],
      "metadata": {
        "id": "_UATfGqvRuwa"
      }
    },
    {
      "cell_type": "code",
      "source": [
        "X_train = np.array([[2104, 5, 1, 45], [1416, 3, 2, 40], [852, 2, 1, 35]])\n",
        "y_train = np.array([460, 232, 178])"
      ],
      "metadata": {
        "id": "ooJMhcYf4_7f"
      },
      "execution_count": 3,
      "outputs": []
    },
    {
      "cell_type": "markdown",
      "source": [
        "B AND W VALUES"
      ],
      "metadata": {
        "id": "t2c3MJDTR3Yy"
      }
    },
    {
      "cell_type": "code",
      "source": [
        "b_init = 785.1811367994083\n",
        "w_init = np.array([ 0.39133535, 18.75376741, -53.36032453, -26.42131618])"
      ],
      "metadata": {
        "id": "tzPHkXsF5Ggm"
      },
      "execution_count": 4,
      "outputs": []
    },
    {
      "cell_type": "markdown",
      "source": [
        "CODE FOR MODEL"
      ],
      "metadata": {
        "id": "g_yugfRSSHPz"
      }
    },
    {
      "cell_type": "code",
      "source": [
        "def predict_single_loop(w,b,X):\n",
        "    m=X.shape[0]\n",
        "    p=0\n",
        "    for i in range(m):\n",
        "        p_i=X[i]*w[i]\n",
        "        p=p+p_i\n",
        "    p=p+b\n",
        "    return p\n"
      ],
      "metadata": {
        "id": "ADqkWB__5Olo"
      },
      "execution_count": 78,
      "outputs": []
    },
    {
      "cell_type": "markdown",
      "source": [
        "TEST BY INPUT VALUE OF 2"
      ],
      "metadata": {
        "id": "7qBLNdA5SMi8"
      }
    },
    {
      "cell_type": "code",
      "source": [
        "\n",
        "X_vec=X_train[2,:]\n",
        "print(X_vec.shape,X_vec)\n",
        "f_wb=predict_single_loop(w_init,b_init,X_vec)\n",
        "print(f_wb.shape,f_wb)\n",
        "\n"
      ],
      "metadata": {
        "colab": {
          "base_uri": "https://localhost:8080/"
        },
        "id": "9ZgRGCaJ57HL",
        "outputId": "7629cc74-9fd1-42d6-f5b1-3ee7e27ca33a"
      },
      "execution_count": 84,
      "outputs": [
        {
          "output_type": "stream",
          "name": "stdout",
          "text": [
            "(4,) [852   2   1  35]\n",
            "() 177.99999898940814\n"
          ]
        }
      ]
    },
    {
      "cell_type": "markdown",
      "source": [
        "TIME TAKEN FOR THIS MODEL"
      ],
      "metadata": {
        "id": "HBjynFDDSQgA"
      }
    },
    {
      "cell_type": "code",
      "source": [
        "import time\n",
        "tic=time.time()\n",
        "predict_single_loop(w_init,b_init,X_vec)\n",
        "toc=time.time()\n",
        "print(toc-tic)"
      ],
      "metadata": {
        "colab": {
          "base_uri": "https://localhost:8080/"
        },
        "id": "yir_IL0E6n8T",
        "outputId": "f6b6993f-003a-466b-a47f-9fc6242333b9"
      },
      "execution_count": 85,
      "outputs": [
        {
          "output_type": "stream",
          "name": "stdout",
          "text": [
            "8.392333984375e-05\n"
          ]
        }
      ]
    },
    {
      "cell_type": "markdown",
      "source": [
        "USE DOT PRODECT VECTORIZATION"
      ],
      "metadata": {
        "id": "oaoJaNUjSUpx"
      }
    },
    {
      "cell_type": "code",
      "source": [
        "def vinoth(X,w,b):\n",
        "  p=np.dot(w,X)+b\n",
        "  return p"
      ],
      "metadata": {
        "id": "_ZG2IbyU9OVn"
      },
      "execution_count": 86,
      "outputs": []
    },
    {
      "cell_type": "markdown",
      "source": [
        "TIME TAKEN"
      ],
      "metadata": {
        "id": "eWERHSEpSZB3"
      }
    },
    {
      "cell_type": "code",
      "source": [
        "tic=time.time()\n",
        "p=np.dot(w_init,X_vec)+b_init\n",
        "toc=time.time()\n",
        "print(toc-tic)"
      ],
      "metadata": {
        "colab": {
          "base_uri": "https://localhost:8080/"
        },
        "id": "1p87ZOPf9tbj",
        "outputId": "90e34003-3501-4bdd-d4a2-7ee21fe3a110"
      },
      "execution_count": 88,
      "outputs": [
        {
          "output_type": "stream",
          "name": "stdout",
          "text": [
            "0.0001704692840576172\n"
          ]
        }
      ]
    },
    {
      "cell_type": "markdown",
      "source": [
        "VECTORIZARTION IS BEST TO REDUCE TIME OF MODEL"
      ],
      "metadata": {
        "id": "JCUCxH1FSbO-"
      }
    },
    {
      "cell_type": "markdown",
      "source": [
        "NOW, USING GRADIENT DESCENT"
      ],
      "metadata": {
        "id": "WoTTamqQSj4N"
      }
    },
    {
      "cell_type": "markdown",
      "source": [
        "COMPUTE COST"
      ],
      "metadata": {
        "id": "nXa5cc5OSoqS"
      }
    },
    {
      "cell_type": "code",
      "source": [
        "def compute_cost(X,y,w,b):\n",
        "    m=X.shape[0]\n",
        "    cost=0.0\n",
        "    for i in range(m):\n",
        "        f_wb_i=np.dot(X[i],w)+b\n",
        "        cost=cost+(f_wb_i-y[i])**2\n",
        "    cost=cost/(2*m)\n",
        "    return cost"
      ],
      "metadata": {
        "id": "GJtFWikf-Dgh"
      },
      "execution_count": 89,
      "outputs": []
    },
    {
      "cell_type": "code",
      "source": [
        "cost=compute_cost(X_train,y_train,w_init,b_init)\n",
        "print(cost)"
      ],
      "metadata": {
        "colab": {
          "base_uri": "https://localhost:8080/"
        },
        "id": "oZogsEe__wkI",
        "outputId": "f7671dfd-ec14-443e-9f31-d35ab77f7662"
      },
      "execution_count": 11,
      "outputs": [
        {
          "output_type": "stream",
          "name": "stdout",
          "text": [
            "1.5578904428966628e-12\n"
          ]
        }
      ]
    },
    {
      "cell_type": "markdown",
      "source": [
        "COMPUTE GRADIENT THAT IS DERIVATIVE OF D_w AND D_b"
      ],
      "metadata": {
        "id": "HoyN8dwmSrzl"
      }
    },
    {
      "cell_type": "code",
      "source": [
        "def compute_gradient(X,y,w,b):\n",
        "    m,n=X.shape\n",
        "    dj_dw=np.zeros((n,))\n",
        "    dj_db=0.0\n",
        "    for i in range(m):\n",
        "        err=(np.dot(X[i],w)+b)-y[i]\n",
        "        for j in range(n):\n",
        "            dj_dw[j]=dj_dw[j]+err*X[i,j]\n",
        "        dj_db=dj_db+err\n",
        "    dj_dw=dj_dw/m\n",
        "    dj_db=dj_db/m\n",
        "    return dj_dw,dj_db\n",
        "\n"
      ],
      "metadata": {
        "id": "ipT4bTLEAGJp"
      },
      "execution_count": 90,
      "outputs": []
    },
    {
      "cell_type": "markdown",
      "source": [
        "GRADIENT DESCENT"
      ],
      "metadata": {
        "id": "r7JD8mJ5S4et"
      }
    },
    {
      "cell_type": "code",
      "source": [
        "import copy\n",
        "import math\n",
        "def gradient_descent(X, y, w_in, b_in, cost_function, gradient_function, alpha, num_iters):\n",
        "\n",
        "\n",
        "\n",
        "    J_history = []\n",
        "    w = copy.deepcopy(w_in)\n",
        "    b = b_in\n",
        "\n",
        "    for i in range(num_iters):\n",
        "\n",
        "        dj_dw,dj_db = gradient_function(X, y, w, b)\n",
        "\n",
        "        w = w - alpha * dj_dw\n",
        "        b = b - alpha * dj_db\n",
        "\n",
        "        if i<100000:\n",
        "            J_history.append( cost_function(X, y, w, b))\n",
        "\n",
        "    return w, b, J_history\n",
        "\n"
      ],
      "metadata": {
        "id": "5-4K4CUEnjY9"
      },
      "execution_count": 92,
      "outputs": []
    },
    {
      "cell_type": "code",
      "source": [
        "X_train = np.array([[2104, 5, 1, 45], [1416, 3, 2, 40], [852, 2, 1, 35]])\n",
        "y_train = np.array([460, 232, 178])"
      ],
      "metadata": {
        "id": "9-HzYRxQ0yNs"
      },
      "execution_count": 93,
      "outputs": []
    },
    {
      "cell_type": "markdown",
      "source": [
        "TEST MODEL BY GIVING ALPHA AND ITERATIONS"
      ],
      "metadata": {
        "id": "ld2qwCwfS7RD"
      }
    },
    {
      "cell_type": "code",
      "source": [
        "\n",
        "m=X_train.shape[0]\n",
        "initial_w = np.zeros(X_train.shape[1])\n",
        "initial_b = 0.\n",
        "\n",
        "iterations = 10000\n",
        "alpha = 5.0e-7\n",
        "\n",
        "w_final, b_final, J_history = gradient_descent(X_train, y_train, initial_w, initial_b,compute_cost, compute_gradient,alpha, iterations)\n",
        "print(f\"b,w found by gradient descent: {b_final:0.2f},{w_final} \")\n",
        "\n",
        "for i in range(m):\n",
        "    print(f\"prediction: {np.dot(X_train[i], w_final) + b_final:0.2f}, target value: {y_train[i]}\")"
      ],
      "metadata": {
        "colab": {
          "base_uri": "https://localhost:8080/"
        },
        "id": "TlmbcR2XxdFe",
        "outputId": "93d3d849-5bf5-4f45-aa8c-7a55b12cb096"
      },
      "execution_count": 94,
      "outputs": [
        {
          "output_type": "stream",
          "name": "stdout",
          "text": [
            "b,w found by gradient descent: -0.02,[ 0.21699899  0.03240792 -0.10755879 -0.5799772 ] \n",
            "prediction: 430.50, target value: 460\n",
            "prediction: 283.93, target value: 232\n",
            "prediction: 164.52, target value: 178\n"
          ]
        }
      ]
    },
    {
      "cell_type": "markdown",
      "source": [
        "PLOT FOR VISUALIZATION OF MODEL"
      ],
      "metadata": {
        "id": "XZa_mTHUTAXP"
      }
    },
    {
      "cell_type": "code",
      "source": [
        "\n",
        "fig, (ax1, ax2) = plt.subplots(1, 2, constrained_layout=True, figsize=(12, 4))\n",
        "ax1.plot(J_history)\n",
        "ax2.plot(100 + np.arange(len(J_history[100:])), J_history[100:])\n",
        "ax1.set_title(\"Cost vs. iteration\");  ax2.set_title(\"Cost vs. iteration (tail)\")\n",
        "ax1.set_ylabel('Cost')             ;  ax2.set_ylabel('Cost')\n",
        "ax1.set_xlabel('iteration step')   ;  ax2.set_xlabel('iteration step')\n",
        "plt.show()\n"
      ],
      "metadata": {
        "colab": {
          "base_uri": "https://localhost:8080/",
          "height": 428
        },
        "id": "GeyiwINS3uRS",
        "outputId": "699f8e6c-8e51-43e7-ee6b-0c6b80bc2333"
      },
      "execution_count": 45,
      "outputs": [
        {
          "output_type": "display_data",
          "data": {
            "text/plain": [
              "<Figure size 1200x400 with 2 Axes>"
            ],
            "image/png": "[encoded data removed]"
          },
          "metadata": {}
        }
      ]
    },
    {
      "cell_type": "markdown",
      "source": [],
      "metadata": {
        "id": "kzfWblIDt-1z"
      }
    },
    {
      "cell_type": "markdown",
      "source": [
        "END"
      ],
      "metadata": {
        "id": "LvySU6JcTGBa"
      }
    },
    {
      "cell_type": "code",
      "source": [],
      "metadata": {
        "id": "QCr35JR0TG09"
      },
      "execution_count": null,
      "outputs": []
    }
  ]
}